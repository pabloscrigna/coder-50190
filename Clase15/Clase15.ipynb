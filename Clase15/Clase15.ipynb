{
  "nbformat": 4,
  "nbformat_minor": 0,
  "metadata": {
    "colab": {
      "provenance": []
    },
    "kernelspec": {
      "name": "python3",
      "display_name": "Python 3"
    },
    "language_info": {
      "name": "python"
    }
  },
  "cells": [
    {
      "cell_type": "markdown",
      "source": [
        "<font size=\"6\" color=\"rgb(128, 128, 0)\">Scripts - Modulos - Paquetes</font>"
      ],
      "metadata": {
        "id": "WFc1XG_VhPvn"
      }
    },
    {
      "cell_type": "markdown",
      "source": [
        "* Scripts\n",
        "* Módulos\n",
        "* Paquetes\n",
        "\n",
        "![purple-divider](https://user-images.githubusercontent.com/7065401/52071927-c1cd7100-2562-11e9-908a-dde91ba14e59.png)"
      ],
      "metadata": {
        "id": "yHNu1MrUhUeH"
      }
    },
    {
      "cell_type": "markdown",
      "source": [
        "![green-divider](https://user-images.githubusercontent.com/7065401/52071924-c003ad80-2562-11e9-8297-1c6595f8a7ff.png)\n",
        "\n",
        "### Objetivos ✨"
      ],
      "metadata": {
        "id": "87El3pqJhVjJ"
      }
    },
    {
      "cell_type": "markdown",
      "source": [
        "* **Crear** los primeros scripts.\n",
        "* **Conocer** la estructura de un módulo.\n",
        "* **Ejecutar** módulos y paquetes en Python.\n",
        "* **Utilizar** nuevas librerías."
      ],
      "metadata": {
        "id": "xRWeyTW9hZi_"
      }
    },
    {
      "cell_type": "markdown",
      "source": [
        "![green-divider](https://user-images.githubusercontent.com/7065401/52071924-c003ad80-2562-11e9-8297-1c6595f8a7ff.png)\n",
        "\n",
        "### Scripts"
      ],
      "metadata": {
        "id": "NWEW-mz6j5Se"
      }
    },
    {
      "cell_type": "markdown",
      "source": [
        "__¿Qué son?__\n",
        "\n",
        "¿Qué es un script? Un script es un **“guión”** con instrucciones de código, (básicamente, lo que venimos haciendo hasta ahora) guardado con un nombre y ejecutado desde el intérprete (ide), estos scripts pueden tomar datos **(argumentos)** en el momento de la ejecución.\n",
        "\n",
        "Pueden tomar estos datos desde el exterior y tener distintos comportamientos."
      ],
      "metadata": {
        "id": "2yW8FxJRj-f6"
      }
    },
    {
      "cell_type": "markdown",
      "source": [
        "![green-divider](https://user-images.githubusercontent.com/7065401/52071924-c003ad80-2562-11e9-8297-1c6595f8a7ff.png)\n",
        "\n",
        "### Scripts con argumentos"
      ],
      "metadata": {
        "id": "qHhOYKkh36Io"
      }
    },
    {
      "cell_type": "markdown",
      "source": [
        "¿Qué son?\n",
        "\n",
        "Ahora sabemos como crear scripts, pero la idea es tener una entrada de datos, ¿no?\n",
        "\n",
        "Los datos que se van a enviar se denominan **argumentos**. Son valores que se pasan al ejecutar un script para que este mismo después los modifique o haga lo que programemos con estos datos."
      ],
      "metadata": {
        "id": "Lwsqsjrg4B75"
      }
    },
    {
      "cell_type": "markdown",
      "source": [
        "Tenemos que ir al script y editarlo. Primero importamos una librería llamada **sys** y después imprimimos los argumentos usando la librería."
      ],
      "metadata": {
        "id": "FclA-HIC4YFO"
      }
    },
    {
      "cell_type": "code",
      "source": [
        "import sys"
      ],
      "metadata": {
        "id": "F-LWgdQh53R5"
      },
      "execution_count": null,
      "outputs": []
    },
    {
      "cell_type": "code",
      "source": [
        "dir(sys)"
      ],
      "metadata": {
        "id": "fB9Rg2Kg55pw"
      },
      "execution_count": null,
      "outputs": []
    },
    {
      "cell_type": "markdown",
      "source": [
        "* script.py\n"
      ],
      "metadata": {
        "id": "xwsDcPLw7qoF"
      }
    },
    {
      "cell_type": "markdown",
      "source": [
        "**Preguntas**❓"
      ],
      "metadata": {
        "id": "DlhrJChEboa7"
      }
    },
    {
      "cell_type": "markdown",
      "source": [
        "* script_1.py"
      ],
      "metadata": {
        "id": "TexUzV1pMYgk"
      }
    },
    {
      "cell_type": "markdown",
      "source": [
        "![green-divider](https://user-images.githubusercontent.com/7065401/52071924-c003ad80-2562-11e9-8297-1c6595f8a7ff.png)\n",
        "\n",
        "### **Módulo**"
      ],
      "metadata": {
        "id": "3uuIXjed4fCC"
      }
    },
    {
      "cell_type": "markdown",
      "source": [
        "Un módulo es un archivo que consta de código Python. Puede definir funciones, clases y variables. También puede incluir código ejecutable."
      ],
      "metadata": {
        "id": "GNC3FtLB4olC"
      }
    },
    {
      "cell_type": "markdown",
      "source": [
        "Se trata de un archivo con extensión **.py** o **.pyc** (Python compilado) que posee su propio espacio de nombres y que puede contener variables, funciones, clases e incluso otros módulos."
      ],
      "metadata": {
        "id": "O4o9Wug88ioU"
      }
    },
    {
      "cell_type": "markdown",
      "source": [
        "* funciones_matematicas.py\n",
        "\n",
        "* uso.py"
      ],
      "metadata": {
        "id": "yAZYBKoU9fm4"
      }
    },
    {
      "cell_type": "markdown",
      "source": [
        "**Preguntas**❓"
      ],
      "metadata": {
        "id": "PagwhqtJMRV0"
      }
    },
    {
      "cell_type": "markdown",
      "source": [
        "* Variable __name__  (Programa principal o modulo)"
      ],
      "metadata": {
        "id": "ZamJ6y8uLdX5"
      }
    },
    {
      "cell_type": "markdown",
      "source": [
        "**Preguntas**❓"
      ],
      "metadata": {
        "id": "qHJqcBZZwFIo"
      }
    },
    {
      "cell_type": "markdown",
      "source": [
        "![green-divider](https://user-images.githubusercontent.com/7065401/52071924-c003ad80-2562-11e9-8297-1c6595f8a7ff.png)\n",
        "\n",
        "### **Ejercicio**"
      ],
      "metadata": {
        "id": "DyqWbq3Iylzy"
      }
    },
    {
      "cell_type": "markdown",
      "source": [
        "**Primer módulo**\n",
        "\n",
        "Crea un módulo que tenga una clase con atributos y métodos. Instanciar a la clase llamando al módulo desde otro archivo .py\n",
        "\n",
        "1. Hacer una clase fácil, como Alumno, con nombre y nota, con un método imprimir().\n",
        "2 .Crear una instancia de Alumno, mostrando sus datos y llamando al método desde otro módulo.\n"
      ],
      "metadata": {
        "id": "Hr1XF-mcyj4_"
      }
    },
    {
      "cell_type": "markdown",
      "source": [
        "![green-divider](https://user-images.githubusercontent.com/7065401/52071924-c003ad80-2562-11e9-8297-1c6595f8a7ff.png)\n",
        "\n",
        "### **Paquete**"
      ],
      "metadata": {
        "id": "nH5qoYJREP_s"
      }
    },
    {
      "cell_type": "markdown",
      "source": [
        "**Definición**\n",
        "\n",
        "Guardar todos los módulos en la misma “carpeta” puede ser muy tedioso y difícil de administrar. ¡Imaginen si tienen 100 módulos, esa carpeta estará plagada de archivos .py.\n",
        "\n"
      ],
      "metadata": {
        "id": "oFuEB6TjETLp"
      }
    },
    {
      "cell_type": "markdown",
      "source": [
        "Para eso aparecen los paquetes, no son otra cosa que carpetas para organizar los módulos, por categorías."
      ],
      "metadata": {
        "id": "m7a0O42JEg8d"
      }
    },
    {
      "cell_type": "markdown",
      "source": [
        "\n",
        "👉Crear un paquete es muy sencillo, solo tienes que crear una carpeta y dentro de ella deberas tener un archivo __init__.py"
      ],
      "metadata": {
        "id": "pkw0XxbKElhg"
      }
    },
    {
      "cell_type": "markdown",
      "source": [
        "**Preguntas**❓"
      ],
      "metadata": {
        "id": "SIkg4UEyMgGD"
      }
    },
    {
      "cell_type": "markdown",
      "source": [
        "**Crear un paquete matematica con dos modulos**"
      ],
      "metadata": {
        "id": "MoIHFVRQEyO9"
      }
    },
    {
      "cell_type": "markdown",
      "source": [
        "### ☕ Break"
      ],
      "metadata": {
        "id": "9sa3-uJezu_V"
      }
    },
    {
      "cell_type": "markdown",
      "source": [
        "![green-divider](https://user-images.githubusercontent.com/7065401/52071924-c003ad80-2562-11e9-8297-1c6595f8a7ff.png)\n",
        "\n",
        "### **Entornos virtuales**"
      ],
      "metadata": {
        "id": "sj76IPHdLVXC"
      }
    },
    {
      "cell_type": "markdown",
      "source": [
        "* ver ppt\n",
        "* [Poetry](https://python-poetry.org/)"
      ],
      "metadata": {
        "id": "6j-umewFLaXh"
      }
    },
    {
      "cell_type": "markdown",
      "source": [
        "**Preguntas**❓"
      ],
      "metadata": {
        "id": "srBWor6qRJ7t"
      }
    },
    {
      "cell_type": "markdown",
      "source": [
        "Conclusiones\n",
        "\n",
        "* app\n",
        "* venv / poetry (Dependencias)\n",
        "* Docker ---> Imagen con la version python"
      ],
      "metadata": {
        "id": "9JKU6ULvPYcx"
      }
    },
    {
      "cell_type": "markdown",
      "source": [
        "* --> Si docker ya aisla mi aplicacion, para que usar un entorno virtual?\n",
        "* --> Para que usar poetry si puedo usar venv ?"
      ],
      "metadata": {
        "id": "OGycwTTZPwMD"
      }
    },
    {
      "cell_type": "markdown",
      "source": [
        "![green-divider](https://user-images.githubusercontent.com/7065401/52071924-c003ad80-2562-11e9-8297-1c6595f8a7ff.png)\n",
        "\n",
        "### **Paquetes redistribuibles**"
      ],
      "metadata": {
        "id": "9v3xUjPcLvTS"
      }
    },
    {
      "cell_type": "markdown",
      "source": [
        "* Uso de pip\n",
        "\n",
        "* pip install pandas\n",
        "* pip install requests\n",
        "* pip install requests --upgrade\n",
        "* pip freeze\n",
        "* pip freeze > requirements.txt\n",
        "* pip install -r requirements.txt"
      ],
      "metadata": {
        "id": "EW9oGphyL3ao"
      }
    },
    {
      "cell_type": "markdown",
      "source": [
        "**Preguntas**❓"
      ],
      "metadata": {
        "id": "htdaTs6rRLbV"
      }
    },
    {
      "cell_type": "markdown",
      "source": [
        "![green-divider](https://user-images.githubusercontent.com/7065401/52071924-c003ad80-2562-11e9-8297-1c6595f8a7ff.png)\n",
        "\n",
        "### **Paquetes / Módulos externos**"
      ],
      "metadata": {
        "id": "ekmKNsG7L72g"
      }
    },
    {
      "cell_type": "markdown",
      "source": [
        "#### **Collections**\n",
        "\n",
        "Python 3 tiene varias estructuras de datos integradas, incluyendo tuplas, diccionarios y listas.\n",
        "\n",
        "Las estructuras de datos nos proporcionan una forma de organizar y almacenar datos. **El módulo collections nos ayuda a completar y manipular las estructuras de datos de forma eficiente**.\n",
        "\n",
        "Para usarlo debemos importarlo, ya que es un paquete con módulos: **from collections import ***\n"
      ],
      "metadata": {
        "id": "sbZRaUpYnguu"
      }
    },
    {
      "cell_type": "code",
      "source": [
        "# namedtuple\n",
        "\n",
        "from collections import namedtuple"
      ],
      "metadata": {
        "id": "gDnjcrltoCgi"
      },
      "execution_count": null,
      "outputs": []
    },
    {
      "cell_type": "code",
      "source": [
        "# Definimos una tupla llamada punto con los campos x, y\n",
        "Point = namedtuple('Point', ['x', 'y'])"
      ],
      "metadata": {
        "id": "9F5sBqX7ojhc"
      },
      "execution_count": null,
      "outputs": []
    },
    {
      "cell_type": "code",
      "source": [
        "# creamos una instancia de la named tuple Point\n",
        "p = Point(x=1, y=2)"
      ],
      "metadata": {
        "id": "hggrWM7GolwK"
      },
      "execution_count": null,
      "outputs": []
    },
    {
      "cell_type": "code",
      "source": [
        "print(p.x)\n",
        "print(p.y)"
      ],
      "metadata": {
        "id": "7aRyjm1so1tL"
      },
      "execution_count": null,
      "outputs": []
    },
    {
      "cell_type": "code",
      "source": [
        "# Counter\n",
        "\n",
        "from collections import Counter"
      ],
      "metadata": {
        "id": "gpytILbBo6cu"
      },
      "execution_count": null,
      "outputs": []
    },
    {
      "cell_type": "code",
      "source": [
        "lista_frutas = ['manzana', 'banana', 'naranja', 'manzana', 'banana', 'manzana']\n",
        "counter = Counter(lista_frutas)\n",
        "print(counter)"
      ],
      "metadata": {
        "id": "DewFR86vpop3"
      },
      "execution_count": null,
      "outputs": []
    },
    {
      "cell_type": "code",
      "source": [
        "counter[\"manzana\"]"
      ],
      "metadata": {
        "id": "cXvyL-P0p4zB"
      },
      "execution_count": null,
      "outputs": []
    },
    {
      "cell_type": "code",
      "source": [
        "counter[\"frutilla\"]"
      ],
      "metadata": {
        "id": "BmxuPbvup9GO"
      },
      "execution_count": null,
      "outputs": []
    },
    {
      "cell_type": "code",
      "source": [
        "estudiantes = \"juan perdo ernesto\"\n",
        "print(Counter(estudiantes))\n"
      ],
      "metadata": {
        "id": "eBquk-YoqQRO"
      },
      "execution_count": null,
      "outputs": []
    },
    {
      "cell_type": "code",
      "source": [
        "print(Counter(estudiantes.split()))"
      ],
      "metadata": {
        "id": "by1ZCn1bqaZO"
      },
      "execution_count": null,
      "outputs": []
    },
    {
      "cell_type": "markdown",
      "source": [
        "#### **Datetime**"
      ],
      "metadata": {
        "id": "UPcz_Gzwq3Xz"
      }
    },
    {
      "cell_type": "code",
      "source": [
        "from datetime import datetime"
      ],
      "metadata": {
        "id": "kfG9QxEbq62r"
      },
      "execution_count": null,
      "outputs": []
    },
    {
      "cell_type": "code",
      "source": [
        "dt = datetime.now()"
      ],
      "metadata": {
        "id": "nhyuMBsxq_6x"
      },
      "execution_count": null,
      "outputs": []
    },
    {
      "cell_type": "code",
      "source": [
        "print(dt)"
      ],
      "metadata": {
        "id": "Q9LZERNurZ2b"
      },
      "execution_count": null,
      "outputs": []
    },
    {
      "cell_type": "code",
      "source": [
        "dt.year"
      ],
      "metadata": {
        "id": "ifskAwcGsJVT"
      },
      "execution_count": null,
      "outputs": []
    },
    {
      "cell_type": "code",
      "source": [
        "dt.day"
      ],
      "metadata": {
        "id": "gotkewyMsLKZ"
      },
      "execution_count": null,
      "outputs": []
    },
    {
      "cell_type": "code",
      "source": [
        "dt.month"
      ],
      "metadata": {
        "id": "gp6Lc3ILsOTS"
      },
      "execution_count": null,
      "outputs": []
    },
    {
      "cell_type": "code",
      "source": [
        "dt.strftime(\"%Y-%m-%d %H:%M:%S\")"
      ],
      "metadata": {
        "id": "kzrFp_c6rgbC"
      },
      "execution_count": null,
      "outputs": []
    },
    {
      "cell_type": "code",
      "source": [
        "createdAt = datetime.now()"
      ],
      "metadata": {
        "id": "jP7I7CGYS1jZ"
      },
      "execution_count": null,
      "outputs": []
    },
    {
      "cell_type": "code",
      "source": [
        "type(createdAt)"
      ],
      "metadata": {
        "id": "PFPPnABaS-9g"
      },
      "execution_count": null,
      "outputs": []
    },
    {
      "cell_type": "code",
      "source": [
        "createdAt = createdAt.strftime(\"%Y-%m-%d %H:%M:%S\")"
      ],
      "metadata": {
        "id": "6Q2417ShTDDw"
      },
      "execution_count": null,
      "outputs": []
    },
    {
      "cell_type": "code",
      "source": [
        "createdAt"
      ],
      "metadata": {
        "id": "WAMlDf2eTJeI"
      },
      "execution_count": null,
      "outputs": []
    },
    {
      "cell_type": "code",
      "source": [
        "type(createdAt)"
      ],
      "metadata": {
        "id": "50mi2oZrTLfF"
      },
      "execution_count": null,
      "outputs": []
    },
    {
      "cell_type": "code",
      "source": [
        "from datetime import timedelta\n",
        "createdAt = datetime.now()\n",
        "expires = createdAt + timedelta(hours=2)"
      ],
      "metadata": {
        "id": "px2RjU6KTSjM"
      },
      "execution_count": null,
      "outputs": []
    },
    {
      "cell_type": "code",
      "source": [
        "expires"
      ],
      "metadata": {
        "id": "I5Pc4JzjTwlK"
      },
      "execution_count": null,
      "outputs": []
    },
    {
      "cell_type": "code",
      "source": [
        "createdAt"
      ],
      "metadata": {
        "id": "2iVdZyIrT5wq"
      },
      "execution_count": null,
      "outputs": []
    },
    {
      "cell_type": "markdown",
      "source": [
        "#### **Math**"
      ],
      "metadata": {
        "id": "L-5WXQA-sVrC"
      }
    },
    {
      "cell_type": "markdown",
      "source": [
        "Python tiene un módulo incorporado que puede usarse para tareas matemáticas, este módulo se llama Math."
      ],
      "metadata": {
        "id": "nZPKB3ooU6Xs"
      }
    },
    {
      "cell_type": "code",
      "source": [
        "import math"
      ],
      "metadata": {
        "id": "XIhdy-nmU-IY"
      },
      "execution_count": null,
      "outputs": []
    },
    {
      "cell_type": "code",
      "source": [
        "math.sqrt(4)"
      ],
      "metadata": {
        "id": "mcsl6hyBU_wE"
      },
      "execution_count": null,
      "outputs": []
    },
    {
      "cell_type": "code",
      "source": [
        "math.sin(0)"
      ],
      "metadata": {
        "id": "EpOwol2ZVE-d"
      },
      "execution_count": null,
      "outputs": []
    },
    {
      "cell_type": "code",
      "source": [
        "math.cos(0)"
      ],
      "metadata": {
        "id": "ZFo0BGclVHgV"
      },
      "execution_count": null,
      "outputs": []
    },
    {
      "cell_type": "markdown",
      "source": [
        "#### **Random**"
      ],
      "metadata": {
        "id": "wXeam-IkULTx"
      }
    },
    {
      "cell_type": "markdown",
      "source": [
        "Este nuevo módulo nos permite obtener valores al azar o aleatorios. Por eso lo conocemos como módulo aleatorio."
      ],
      "metadata": {
        "id": "P98tPSpSUS71"
      }
    },
    {
      "cell_type": "code",
      "source": [
        "import random"
      ],
      "metadata": {
        "id": "3uagfUzKUPin"
      },
      "execution_count": null,
      "outputs": []
    },
    {
      "cell_type": "code",
      "source": [
        "print(random.randrange(20, 50))"
      ],
      "metadata": {
        "id": "hucCcnJ-UXOI"
      },
      "execution_count": null,
      "outputs": []
    },
    {
      "cell_type": "code",
      "source": [
        "lista = [ \"a\", \"e\", \"i\", \"o\", \"u\"]\n",
        "\n",
        "random.choice(lista)"
      ],
      "metadata": {
        "id": "-OLN9dr2UiZs"
      },
      "execution_count": null,
      "outputs": []
    },
    {
      "cell_type": "code",
      "source": [
        "frase = \"Hola mundo!!!\"\n",
        "\n",
        "random.choice(frase)"
      ],
      "metadata": {
        "id": "wQFuiEoaUsgX"
      },
      "execution_count": null,
      "outputs": []
    },
    {
      "cell_type": "markdown",
      "source": [
        "![green-divider](https://user-images.githubusercontent.com/7065401/52071924-c003ad80-2562-11e9-8297-1c6595f8a7ff.png)\n",
        "\n",
        "### **Extra Mailjet**"
      ],
      "metadata": {
        "id": "JU-_dhlrVYTx"
      }
    },
    {
      "cell_type": "markdown",
      "source": [
        "Mailjet:   https://dev.mailjet.com/"
      ],
      "metadata": {
        "id": "Qa6w5oSEQlxs"
      }
    }
  ]
}