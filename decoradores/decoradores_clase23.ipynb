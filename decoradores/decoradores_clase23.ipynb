{
  "nbformat": 4,
  "nbformat_minor": 0,
  "metadata": {
    "colab": {
      "provenance": []
    },
    "kernelspec": {
      "name": "python3",
      "display_name": "Python 3"
    },
    "language_info": {
      "name": "python"
    }
  },
  "cells": [
    {
      "cell_type": "code",
      "execution_count": 67,
      "metadata": {
        "id": "Wu-lbkf7xF_m"
      },
      "outputs": [],
      "source": [
        "import time\n",
        "\n",
        "def cuadrado(numero):\n",
        "  print(numero)\n",
        "  time.sleep(numero)\n",
        "  return numero**2"
      ]
    },
    {
      "cell_type": "code",
      "source": [
        "valor = cuadrado(5)\n",
        "print(valor)\n",
        "valor = cuadrado(5)\n",
        "print(valor)"
      ],
      "metadata": {
        "colab": {
          "base_uri": "https://localhost:8080/"
        },
        "id": "e-vGtRS7xTkM",
        "outputId": "1a172944-444a-4dee-8117-b3324035bdbd"
      },
      "execution_count": 69,
      "outputs": [
        {
          "output_type": "stream",
          "name": "stdout",
          "text": [
            "5\n",
            "25\n",
            "5\n"
          ]
        }
      ]
    },
    {
      "cell_type": "code",
      "source": [
        "import time\n",
        "\n",
        "from functools import lru_cache\n",
        "\n",
        "@lru_cache\n",
        "def cuadrado(numero):\n",
        "  print(numero)\n",
        "  time.sleep(numero)\n",
        "  return numero**2\n"
      ],
      "metadata": {
        "id": "qONKfUjExYNN"
      },
      "execution_count": 70,
      "outputs": []
    },
    {
      "cell_type": "code",
      "source": [
        "result = cuadrado(5)\n",
        "print(result)\n",
        "result = cuadrado(5)\n",
        "print(result)"
      ],
      "metadata": {
        "colab": {
          "base_uri": "https://localhost:8080/"
        },
        "id": "kkWyj5wGxojD",
        "outputId": "97faef76-33d0-42b1-eab8-f089c6e9939a"
      },
      "execution_count": 71,
      "outputs": [
        {
          "output_type": "stream",
          "name": "stdout",
          "text": [
            "5\n",
            "25\n",
            "25\n"
          ]
        }
      ]
    },
    {
      "cell_type": "code",
      "source": [
        "lru_cache"
      ],
      "metadata": {
        "colab": {
          "base_uri": "https://localhost:8080/"
        },
        "id": "aL5oNEt5yvfG",
        "outputId": "bc83d6df-8de7-4a2e-addb-fca328d46661"
      },
      "execution_count": 72,
      "outputs": [
        {
          "output_type": "execute_result",
          "data": {
            "text/plain": [
              "<function functools.lru_cache(maxsize=128, typed=False)>"
            ]
          },
          "metadata": {},
          "execution_count": 72
        }
      ]
    },
    {
      "cell_type": "code",
      "source": [
        "def saludar(nombre, logger):\n",
        "  logger(f\"Hola {nombre}\")"
      ],
      "metadata": {
        "id": "o8Nh-p3py1QU"
      },
      "execution_count": 73,
      "outputs": []
    },
    {
      "cell_type": "code",
      "source": [
        "saludar(\"Martin\", print)"
      ],
      "metadata": {
        "colab": {
          "base_uri": "https://localhost:8080/"
        },
        "id": "6eygGFCmzB5V",
        "outputId": "6b872d15-0e13-44c6-ab3b-867b8a4afb12"
      },
      "execution_count": 74,
      "outputs": [
        {
          "output_type": "stream",
          "name": "stdout",
          "text": [
            "Hola Martin\n"
          ]
        }
      ]
    },
    {
      "cell_type": "code",
      "source": [
        "import logging\n",
        "\n",
        "saludar(\"warning 1\", logging.warning)"
      ],
      "metadata": {
        "colab": {
          "base_uri": "https://localhost:8080/"
        },
        "id": "sToOCEwbzHf3",
        "outputId": "397cb040-d185-4f04-e020-115540423909"
      },
      "execution_count": 75,
      "outputs": [
        {
          "output_type": "stream",
          "name": "stderr",
          "text": [
            "WARNING:root:Hola warning 1\n"
          ]
        }
      ]
    },
    {
      "cell_type": "code",
      "source": [
        "def rotacion(frase):\n",
        "  print(frase[::-1])"
      ],
      "metadata": {
        "id": "JkX8GVPXzZkW"
      },
      "execution_count": 76,
      "outputs": []
    },
    {
      "cell_type": "code",
      "source": [
        "rotacion(\"Juan\")"
      ],
      "metadata": {
        "colab": {
          "base_uri": "https://localhost:8080/"
        },
        "id": "Ffpu1JOIzhwt",
        "outputId": "524dccf1-833c-4a3b-cb36-09361b7b7113"
      },
      "execution_count": 77,
      "outputs": [
        {
          "output_type": "stream",
          "name": "stdout",
          "text": [
            "nauJ\n"
          ]
        }
      ]
    },
    {
      "cell_type": "code",
      "source": [
        "saludar(\"Juan\", logger=rotacion)"
      ],
      "metadata": {
        "colab": {
          "base_uri": "https://localhost:8080/"
        },
        "id": "CeNkbbAyzlA_",
        "outputId": "14dcd90d-6dbe-4547-d218-9f3b3c32699b"
      },
      "execution_count": 78,
      "outputs": [
        {
          "output_type": "stream",
          "name": "stdout",
          "text": [
            "nauJ aloH\n"
          ]
        }
      ]
    },
    {
      "cell_type": "markdown",
      "source": [
        "Funciones internas"
      ],
      "metadata": {
        "id": "KRq-NtIkQnR-"
      }
    },
    {
      "cell_type": "code",
      "source": [
        "def exterior():\n",
        "  print(\"Soy la funcion exterior\")\n",
        "\n",
        "  def interior():\n",
        "    print(\"Soy la funcion interior\")\n",
        "    return\n",
        "\n",
        "  interior()\n",
        "\n",
        "  return"
      ],
      "metadata": {
        "id": "0RHDWuHTz0T2"
      },
      "execution_count": null,
      "outputs": []
    },
    {
      "cell_type": "code",
      "source": [
        "exterior()"
      ],
      "metadata": {
        "colab": {
          "base_uri": "https://localhost:8080/"
        },
        "id": "MKtigQG90FMn",
        "outputId": "8b0e7859-a039-47a2-975c-528e557643f9"
      },
      "execution_count": 79,
      "outputs": [
        {
          "output_type": "stream",
          "name": "stdout",
          "text": [
            "Soy la funcion exterior\n",
            "Soy la funcion interior\n"
          ]
        },
        {
          "output_type": "execute_result",
          "data": {
            "text/plain": [
              "<function __main__.exterior.<locals>.interior()>"
            ]
          },
          "metadata": {},
          "execution_count": 79
        }
      ]
    },
    {
      "cell_type": "code",
      "source": [
        "interior()"
      ],
      "metadata": {
        "colab": {
          "base_uri": "https://localhost:8080/",
          "height": 175
        },
        "id": "8rbonhH00M7G",
        "outputId": "031a6115-ec3d-4c83-cc0f-bba435cdcb0a"
      },
      "execution_count": 80,
      "outputs": [
        {
          "output_type": "error",
          "ename": "NameError",
          "evalue": "name 'interior' is not defined",
          "traceback": [
            "\u001b[0;31m---------------------------------------------------------------------------\u001b[0m",
            "\u001b[0;31mNameError\u001b[0m                                 Traceback (most recent call last)",
            "\u001b[0;32m<ipython-input-80-df8fec2191dc>\u001b[0m in \u001b[0;36m<cell line: 1>\u001b[0;34m()\u001b[0m\n\u001b[0;32m----> 1\u001b[0;31m \u001b[0minterior\u001b[0m\u001b[0;34m(\u001b[0m\u001b[0;34m)\u001b[0m\u001b[0;34m\u001b[0m\u001b[0;34m\u001b[0m\u001b[0m\n\u001b[0m",
            "\u001b[0;31mNameError\u001b[0m: name 'interior' is not defined"
          ]
        }
      ]
    },
    {
      "cell_type": "code",
      "source": [
        "def exterior():\n",
        "  print(\"Soy la funcion exterior\")\n",
        "  variable = \"hola\"\n",
        "\n",
        "  def interior():\n",
        "    print(\"Soy la funcion interior\")\n",
        "\n",
        "  interior()\n",
        "\n",
        "  return variable"
      ],
      "metadata": {
        "id": "gl527Wij0WP2"
      },
      "execution_count": 81,
      "outputs": []
    },
    {
      "cell_type": "code",
      "source": [
        "var = exterior()\n",
        "print(var)"
      ],
      "metadata": {
        "colab": {
          "base_uri": "https://localhost:8080/"
        },
        "id": "2SFpWu0Z0eD1",
        "outputId": "473a6811-d70a-421b-d78c-b2792893e6f3"
      },
      "execution_count": 82,
      "outputs": [
        {
          "output_type": "stream",
          "name": "stdout",
          "text": [
            "Soy la funcion exterior\n",
            "Soy la funcion interior\n",
            "hola\n"
          ]
        }
      ]
    },
    {
      "cell_type": "code",
      "source": [
        "def exterior():\n",
        "  print(\"Soy la funcion exterior\")\n",
        "  variable = \"hola\"\n",
        "\n",
        "  def interior():\n",
        "    print(\"Soy la funcion interior\")\n",
        "    return\n",
        "\n",
        "  interior()\n",
        "\n",
        "  return interior"
      ],
      "metadata": {
        "id": "mviYRIwg0qSb"
      },
      "execution_count": 84,
      "outputs": []
    },
    {
      "cell_type": "code",
      "source": [
        "interior_funcion = exterior()\n",
        "\n",
        "print(\"-------\")\n",
        "\n",
        "interior_funcion()"
      ],
      "metadata": {
        "colab": {
          "base_uri": "https://localhost:8080/"
        },
        "id": "yJLqMqYy0std",
        "outputId": "6422b7b6-c1ed-40e2-9fe1-c49d01e8052e"
      },
      "execution_count": 85,
      "outputs": [
        {
          "output_type": "stream",
          "name": "stdout",
          "text": [
            "Soy la funcion exterior\n",
            "Soy la funcion interior\n",
            "-------\n",
            "Soy la funcion interior\n"
          ]
        }
      ]
    },
    {
      "cell_type": "code",
      "source": [
        "def wrapper(func):\n",
        "  print(f\"Ejecuar algo antes de llamar a {func.__name__}\")\n",
        "  func()\n",
        "  print(f\"Ejecutar despues de llamar a {func.__name__}\")\n",
        "\n"
      ],
      "metadata": {
        "id": "H2xy3zq41FXO"
      },
      "execution_count": 86,
      "outputs": []
    },
    {
      "cell_type": "code",
      "source": [
        "wrapper(exterior)"
      ],
      "metadata": {
        "colab": {
          "base_uri": "https://localhost:8080/"
        },
        "id": "NoJtoed--yfJ",
        "outputId": "46576c72-3af7-4c67-b1ac-4b541871e944"
      },
      "execution_count": 87,
      "outputs": [
        {
          "output_type": "stream",
          "name": "stdout",
          "text": [
            "Ejecuar algo antes de llamar a exterior\n",
            "Soy la funcion exterior\n",
            "Soy la funcion interior\n",
            "Ejecutar despues de llamar a exterior\n"
          ]
        }
      ]
    },
    {
      "cell_type": "markdown",
      "source": [
        "Un decorador es una funcion, que acepta como argumento una funcion y retorna una funcion."
      ],
      "metadata": {
        "id": "9YQz2viH1lPd"
      }
    },
    {
      "cell_type": "code",
      "source": [
        "# Decorador\n",
        "\n",
        "def wrapper(func):\n",
        "\n",
        "  def _wrapper(*args, **kwargs):\n",
        "    print(f\"Antes de llamar a la funcion {func.__name__}\")\n",
        "    value = func(*args, **kwargs)\n",
        "    print(f\"Despues de llamar a la funcion {func.__name__}\")\n",
        "    value = 5\n",
        "    return value\n",
        "\n",
        "  return _wrapper"
      ],
      "metadata": {
        "id": "1zJ9KXfrmfk4"
      },
      "execution_count": 101,
      "outputs": []
    },
    {
      "cell_type": "code",
      "source": [
        "@wrapper\n",
        "def func():\n",
        "  pass"
      ],
      "metadata": {
        "id": "o3gtv3SmTBW3"
      },
      "execution_count": null,
      "outputs": []
    },
    {
      "cell_type": "code",
      "source": [
        "import random\n",
        "\n",
        "def aleatorio():\n",
        "  return random.randint(1, 6)"
      ],
      "metadata": {
        "id": "NU39jvzA_b3E"
      },
      "execution_count": 105,
      "outputs": []
    },
    {
      "cell_type": "code",
      "source": [
        "valor = aleatorio()\n",
        "print(valor)"
      ],
      "metadata": {
        "colab": {
          "base_uri": "https://localhost:8080/"
        },
        "id": "xAdtYojn_fG5",
        "outputId": "9e68bf96-c716-4c97-cf04-a5139a16ce3f"
      },
      "execution_count": 109,
      "outputs": [
        {
          "output_type": "stream",
          "name": "stdout",
          "text": [
            "4\n"
          ]
        }
      ]
    },
    {
      "cell_type": "code",
      "source": [
        "import random\n",
        "\n",
        "@wrapper\n",
        "def aleatorio():\n",
        "  return random.randint(1, 6)"
      ],
      "metadata": {
        "id": "OE0Rs09R_rS4"
      },
      "execution_count": 112,
      "outputs": []
    },
    {
      "cell_type": "code",
      "source": [
        "valor = aleatorio()\n",
        "print(valor)"
      ],
      "metadata": {
        "colab": {
          "base_uri": "https://localhost:8080/"
        },
        "id": "GFXYywtK_wdA",
        "outputId": "092ff386-9a96-47a5-805a-5d4580dbed08"
      },
      "execution_count": 116,
      "outputs": [
        {
          "output_type": "stream",
          "name": "stdout",
          "text": [
            "Antes de llamar a la funcion aleatorio\n",
            "Despues de llamar a la funcion aleatorio\n",
            "5\n"
          ]
        }
      ]
    },
    {
      "cell_type": "markdown",
      "source": [
        "Ejercicios\n",
        "\n",
        "Implementar un decoradoror que mida el tiempo de la siguiente funcion"
      ],
      "metadata": {
        "id": "sVsrmYQZBBsO"
      }
    },
    {
      "cell_type": "code",
      "source": [
        "def demora(numero):\n",
        "  total = 0\n",
        "  for num in range(numero):\n",
        "    total += sum(n for n in range(num))\n",
        "  return total"
      ],
      "metadata": {
        "id": "-zb_LLVgBN8F"
      },
      "execution_count": 117,
      "outputs": []
    },
    {
      "cell_type": "code",
      "source": [
        "demora(10)"
      ],
      "metadata": {
        "colab": {
          "base_uri": "https://localhost:8080/"
        },
        "id": "wJl5iBdqBQtm",
        "outputId": "148c071f-ad53-447b-f732-eefd67ea0f65"
      },
      "execution_count": 118,
      "outputs": [
        {
          "output_type": "execute_result",
          "data": {
            "text/plain": [
              "120"
            ]
          },
          "metadata": {},
          "execution_count": 118
        }
      ]
    },
    {
      "cell_type": "code",
      "source": [
        "import time\n",
        "\n",
        "# time.perf_counter() -->  float\n",
        "\n",
        "count= time.perf_counter()\n",
        "count"
      ],
      "metadata": {
        "colab": {
          "base_uri": "https://localhost:8080/"
        },
        "id": "uiD-czqYB1HW",
        "outputId": "2c93b2e3-3cca-4aeb-bf7d-af662ad663fc"
      },
      "execution_count": 119,
      "outputs": [
        {
          "output_type": "execute_result",
          "data": {
            "text/plain": [
              "7617.804920301"
            ]
          },
          "metadata": {},
          "execution_count": 119
        }
      ]
    },
    {
      "cell_type": "code",
      "source": [
        "\n",
        "inicio = time.perf_counter()\n",
        "\n",
        "# Bloque de codigo a medir tiempo de ejecucion\n",
        "time.sleep(10)\n",
        "\n",
        "fin = time.perf_counter()\n",
        "\n",
        "tiempo = fin - inicio\n",
        "print(tiempo)"
      ],
      "metadata": {
        "colab": {
          "base_uri": "https://localhost:8080/"
        },
        "id": "yWnYITVsCxUv",
        "outputId": "75dcc52c-3ab0-4e1f-a2dd-1e843a1e7bb0"
      },
      "execution_count": 120,
      "outputs": [
        {
          "output_type": "stream",
          "name": "stdout",
          "text": [
            "10.009880843999781\n"
          ]
        }
      ]
    },
    {
      "cell_type": "code",
      "source": [
        "import time\n",
        "\n",
        "def timer(func):\n",
        "\n",
        "  def _timer(*args, **kwargs):\n",
        "    contador_inicial = time.perf_counter()\n",
        "    valor = func(*args, **kwargs)\n",
        "    contador_final = time.perf_counter()\n",
        "    print(f\"Tiempo transcurrido: {contador_final - contador_inicial} segundos\")\n",
        "    return valor\n",
        "\n",
        "  return _timer"
      ],
      "metadata": {
        "id": "pWH7eCA-DQDH"
      },
      "execution_count": 121,
      "outputs": []
    },
    {
      "cell_type": "code",
      "source": [
        "@timer\n",
        "def demora(numero):\n",
        "  total = 0\n",
        "  for num in range(numero):\n",
        "    total += sum(n for n in range(num))\n",
        "  return total"
      ],
      "metadata": {
        "id": "TbWSOLyDDZre"
      },
      "execution_count": 122,
      "outputs": []
    },
    {
      "cell_type": "code",
      "source": [
        "demora(900)"
      ],
      "metadata": {
        "colab": {
          "base_uri": "https://localhost:8080/"
        },
        "id": "yvEx78eUFSuE",
        "outputId": "cd1a74b2-1fd1-499a-d52b-adaec12dba34"
      },
      "execution_count": 125,
      "outputs": [
        {
          "output_type": "stream",
          "name": "stdout",
          "text": [
            "Tiempo transcurrido: 0.03003222299957997 segundos\n"
          ]
        },
        {
          "output_type": "execute_result",
          "data": {
            "text/plain": [
              "121095300"
            ]
          },
          "metadata": {},
          "execution_count": 125
        }
      ]
    }
  ]
}