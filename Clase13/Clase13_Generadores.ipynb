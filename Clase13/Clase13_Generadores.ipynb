{
  "nbformat": 4,
  "nbformat_minor": 0,
  "metadata": {
    "colab": {
      "provenance": []
    },
    "kernelspec": {
      "name": "python3",
      "display_name": "Python 3"
    },
    "language_info": {
      "name": "python"
    }
  },
  "cells": [
    {
      "cell_type": "markdown",
      "source": [
        "**Iterable**\n",
        "\n",
        "Un iterable es cualquier objeto en Python que implementa el método \\_\\_iter_\\_"
      ],
      "metadata": {
        "id": "7xs5LM9jnPCK"
      }
    },
    {
      "cell_type": "code",
      "source": [
        "dir(list)"
      ],
      "metadata": {
        "id": "cvLceEm5DuTq"
      },
      "execution_count": null,
      "outputs": []
    },
    {
      "cell_type": "markdown",
      "source": [
        "**Iteracion**\n",
        "\n",
        "La iteración es el proceso que seguimos cuando vamos tomando diferentes elementos de una lista, es decir, la vamos iterando. Cuando usamos un bucle para iterar sobre un elemento determinado, esto es una iteración. Es el nombre que se le da al proceso."
      ],
      "metadata": {
        "id": "N5cjHAOHnzSV"
      }
    },
    {
      "cell_type": "code",
      "source": [
        "lista = [10, 20, 30, 40, 50]\n",
        "\n",
        "for valor in lista:\n",
        "  print(valor)"
      ],
      "metadata": {
        "id": "lDHYUi7CD7aJ"
      },
      "execution_count": null,
      "outputs": []
    },
    {
      "cell_type": "markdown",
      "source": [
        "**Generadores**\n",
        "\n",
        "Los generadores son en realidad iteradores, pero sólo permiten ser iterados una vez. Esto se debe a que no almacenan todos los valores en memoria, sino que los van generando al vuelo. Pueden ser usados de dos formas diferentes, iterándolos con un bucle **for** o pasándolos a una función como veremos a continuación.\n",
        "\n",
        "La mayoría de las veces, los **generadores** son implementados como funciones. Sin embargo **no devuelven** los valores con **return** sino que lo hacen usando **yield**. Veamos un ejemplo sencillo de una función generadora."
      ],
      "metadata": {
        "id": "nZfxo6gHoJrB"
      }
    },
    {
      "cell_type": "code",
      "source": [
        "def primer_generador():\n",
        "  print(\"Paso 1...\")\n",
        "  yield 1\n",
        "\n",
        "  print(\"Paso 2 ...\")\n",
        "  yield 2\n",
        "\n",
        "  print(\"Paso 3...\")\n",
        "  yield 3"
      ],
      "metadata": {
        "id": "lTt2TOW1DXrp"
      },
      "execution_count": null,
      "outputs": []
    },
    {
      "cell_type": "code",
      "source": [
        "gen = primer_generador()\n"
      ],
      "metadata": {
        "id": "914YbEMSDnav"
      },
      "execution_count": null,
      "outputs": []
    },
    {
      "cell_type": "code",
      "source": [
        "next(gen)"
      ],
      "metadata": {
        "id": "bCydgIsPD1YO"
      },
      "execution_count": null,
      "outputs": []
    },
    {
      "cell_type": "code",
      "execution_count": null,
      "metadata": {
        "id": "D6AzgHpQkvkf"
      },
      "outputs": [],
      "source": [
        "def funcion_generadora():\n",
        "  for i in range(4):\n",
        "    yield i"
      ]
    },
    {
      "cell_type": "code",
      "source": [
        "generador = funcion_generadora()"
      ],
      "metadata": {
        "id": "tdEtXdlQEbeQ"
      },
      "execution_count": null,
      "outputs": []
    },
    {
      "cell_type": "code",
      "source": [
        "next(generador)"
      ],
      "metadata": {
        "id": "pgavhO1AEjeu"
      },
      "execution_count": null,
      "outputs": []
    },
    {
      "cell_type": "code",
      "source": [
        "for item in funcion_generadora():\n",
        "  print(item)"
      ],
      "metadata": {
        "id": "CmHigTn_pJwF"
      },
      "execution_count": null,
      "outputs": []
    }
  ]
}