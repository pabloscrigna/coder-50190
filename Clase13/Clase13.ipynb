{
  "nbformat": 4,
  "nbformat_minor": 0,
  "metadata": {
    "colab": {
      "provenance": []
    },
    "kernelspec": {
      "name": "python3",
      "display_name": "Python 3"
    },
    "language_info": {
      "name": "python"
    }
  },
  "cells": [
    {
      "cell_type": "markdown",
      "source": [
        "<font size=\"6\" color=\"rgb(128, 128, 0)\">Programación Orientada a Objetos II</font>"
      ],
      "metadata": {
        "id": "dgNNLuhro4up"
      }
    },
    {
      "cell_type": "markdown",
      "source": [
        "* Clases\n",
        "* Atributos\n",
        "* Metodos\n",
        "* Clases Anidadas\n",
        "* Encapsulamiento\n",
        "\n",
        "\n",
        "![purple-divider](https://user-images.githubusercontent.com/7065401/52071927-c1cd7100-2562-11e9-908a-dde91ba14e59.png)"
      ],
      "metadata": {
        "id": "PEhLPMvvo6GB"
      }
    },
    {
      "cell_type": "markdown",
      "source": [
        "![green-divider](https://user-images.githubusercontent.com/7065401/52071924-c003ad80-2562-11e9-8297-1c6595f8a7ff.png)\n",
        "\n",
        "### Objetivos"
      ],
      "metadata": {
        "id": "t0OuFIzjpAh4"
      }
    },
    {
      "cell_type": "markdown",
      "source": [
        "* __Conocer__ los métodos y atributos.\n",
        "\n",
        "* __Crear__ los primeros objetos y anidarlos.\n",
        "\n",
        "* __Identificar__ los principios de encapsulamiento."
      ],
      "metadata": {
        "id": "-MAIUO7gpEIO"
      }
    },
    {
      "cell_type": "markdown",
      "source": [
        "![green-divider](https://user-images.githubusercontent.com/7065401/52071924-c003ad80-2562-11e9-8297-1c6595f8a7ff.png)\n",
        "\n",
        "### Repaso"
      ],
      "metadata": {
        "id": "ZxVUT10apH5_"
      }
    },
    {
      "cell_type": "markdown",
      "source": [
        "Ver presentacion hasta \"Clases\""
      ],
      "metadata": {
        "id": "agoO6vt_5QNI"
      }
    },
    {
      "cell_type": "markdown",
      "source": [
        "**Preguntas**❓"
      ],
      "metadata": {
        "id": "Nt1mUdm17TCV"
      }
    },
    {
      "cell_type": "markdown",
      "source": [
        "![green-divider](https://user-images.githubusercontent.com/7065401/52071924-c003ad80-2562-11e9-8297-1c6595f8a7ff.png)\n",
        "\n",
        "### Clases"
      ],
      "metadata": {
        "id": "bqEIMeQ23zYo"
      }
    },
    {
      "cell_type": "markdown",
      "source": [
        "#### Crear una clase"
      ],
      "metadata": {
        "id": "uj9mXtj4Eu2o"
      }
    },
    {
      "cell_type": "markdown",
      "source": [
        "Lo primero es crear una clase, a la cual llamaremos “Persona”. Se trata de una clase vacía y sin mucha utilidad práctica, pero es la mínima clase que podemos crear. El uso del **pass** realmente no tiene utilidad, pero daría un error si después de los : no tenemos contenido."
      ],
      "metadata": {
        "id": "BABcRPzg3u2-"
      }
    },
    {
      "cell_type": "code",
      "source": [
        "class Persona:\n",
        "  pass"
      ],
      "metadata": {
        "id": "1GmEgec634iV"
      },
      "execution_count": null,
      "outputs": []
    },
    {
      "cell_type": "markdown",
      "source": [
        "#### Instanciar una clase"
      ],
      "metadata": {
        "id": "OZVSAPxXEnSR"
      }
    },
    {
      "cell_type": "markdown",
      "source": [
        "Ahora que tenemos la clase, podemos crear uno o más objetos de la misma, como si de una variable normal se tratase.\n",
        "\n",
        "Nombre de la variable igual a la clase con ( ). Dentro de los paréntesis irían los parámetros de entrada si los hubiera.\n"
      ],
      "metadata": {
        "id": "MIwBh-6n-a5R"
      }
    },
    {
      "cell_type": "code",
      "source": [
        "p1 = Persona()\n",
        "p2 = Persona()"
      ],
      "metadata": {
        "id": "1v9QVs1O2tkc"
      },
      "execution_count": null,
      "outputs": []
    },
    {
      "cell_type": "markdown",
      "source": [
        "* clase.py"
      ],
      "metadata": {
        "id": "tnU3DmTIETtL"
      }
    },
    {
      "cell_type": "markdown",
      "source": [
        "#### Atributos"
      ],
      "metadata": {
        "id": "JdY2O77MEamk"
      }
    },
    {
      "cell_type": "markdown",
      "source": [
        "A la hora de añadir atributos a la clase, es importante distinguir dos tipos:\n",
        "\n",
        "* __Atributos de instancia__: Pertenecen a la instancia de la clase o al objeto. Son atributos particulares de cada instancia, en nuestro caso de cada persona.\n",
        "\n",
        "* __Atributos de clase__: Se trata de atributos que pertenecen a la clase, por lo tanto serán comunes para todos los objetos.\n"
      ],
      "metadata": {
        "id": "NTvy3bzAEihs"
      }
    },
    {
      "cell_type": "code",
      "source": [
        "# Atributos de instancia\n",
        "\n",
        "class Persona:\n",
        "\n",
        "  def __init__(self, nombre, edad, altura):\n",
        "    self.nombre = nombre\n",
        "    self.edad = edad\n",
        "    self.altura = altura"
      ],
      "metadata": {
        "id": "mDdieIaOFJF2"
      },
      "execution_count": null,
      "outputs": []
    },
    {
      "cell_type": "code",
      "source": [
        "p1 = Persona(\"Ruben\", 50, 2.56)\n",
        "p2 = Persona(\"Ernesto\", 60, 1.78)"
      ],
      "metadata": {
        "id": "-BE3khJsKSlM"
      },
      "execution_count": null,
      "outputs": []
    },
    {
      "cell_type": "markdown",
      "source": [
        "¿Que es self?\n",
        "\n",
        "Es una variable que representa la instancia de la clase, y deberá estar siempre ahí.\n",
        "\n",
        "El uso de __init__ y el doble __ no es una coincidencia. Cuando veas un método con esa forma, significa que está reservado para un uso especial del lenguaje. En este caso sería lo que se conoce como constructor.\n"
      ],
      "metadata": {
        "id": "_A5jmcZQGGVB"
      }
    },
    {
      "cell_type": "code",
      "source": [
        "# Atributos de clase\n",
        "\n",
        "class Persona:\n",
        "\n",
        "  codigo = 25190\n",
        "\n",
        "  def __init__(self, nombre, edad):\n",
        "    self.nombre = nombre\n",
        "    self.edad = edad"
      ],
      "metadata": {
        "id": "bxEjPi3LGlr_"
      },
      "execution_count": null,
      "outputs": []
    },
    {
      "cell_type": "code",
      "source": [
        "p1 = Persona(\"Luisa\", 20)\n",
        "p2 = Persona(\"Maria\", 23)"
      ],
      "metadata": {
        "id": "YPgBEG5ZJ9LV"
      },
      "execution_count": null,
      "outputs": []
    },
    {
      "cell_type": "markdown",
      "source": [
        "Como accedemos a los atributos?"
      ],
      "metadata": {
        "id": "0SlYiKGs54_o"
      }
    },
    {
      "cell_type": "code",
      "source": [
        "p1.codigo"
      ],
      "metadata": {
        "id": "KVBfqSvdKMIh"
      },
      "execution_count": null,
      "outputs": []
    },
    {
      "cell_type": "code",
      "source": [
        "p2.nombre"
      ],
      "metadata": {
        "id": "UcRZqWgdKOAP"
      },
      "execution_count": null,
      "outputs": []
    },
    {
      "cell_type": "code",
      "source": [
        "Persona.codigo"
      ],
      "metadata": {
        "id": "rLLktiyt8l4o"
      },
      "execution_count": null,
      "outputs": []
    },
    {
      "cell_type": "markdown",
      "source": [
        "* atributos.py"
      ],
      "metadata": {
        "id": "5ib0My1V63BU"
      }
    },
    {
      "cell_type": "markdown",
      "source": [
        "**Preguntas**❓"
      ],
      "metadata": {
        "id": "01UKzLmH7Vt8"
      }
    },
    {
      "cell_type": "markdown",
      "source": [
        "#### Métodos"
      ],
      "metadata": {
        "id": "QySKJ_4ZKnig"
      }
    },
    {
      "cell_type": "markdown",
      "source": [
        "En realidad cuando usamos __init__ ya estábamos definiendo un método especial."
      ],
      "metadata": {
        "id": "3EbF-mgxKvQw"
      }
    },
    {
      "cell_type": "markdown",
      "source": [
        "A continuación, vamos a ver cómo definir métodos que le den alguna funcionalidad interesante a nuestra clase,"
      ],
      "metadata": {
        "id": "-D0nYcfzLfop"
      }
    },
    {
      "cell_type": "code",
      "source": [
        "class Rectangulo:\n",
        "\n",
        "  def __init__(self, lado_a, lado_b):\n",
        "    self.lado_a = lado_a\n",
        "    self.lado_b = lado_b\n",
        "\n",
        "  def perimeto(self):\n",
        "    return 2* self.lado_a + 2 * self.lado_b\n",
        "\n",
        "\n",
        "  def superficie(self):\n",
        "    return self.lado_a + self.lado_b\n"
      ],
      "metadata": {
        "id": "ImYXPcwfLilJ"
      },
      "execution_count": null,
      "outputs": []
    },
    {
      "cell_type": "code",
      "source": [
        "figura = Rectangulo(10, 20)"
      ],
      "metadata": {
        "id": "a_YZEq0G2FGu"
      },
      "execution_count": null,
      "outputs": []
    },
    {
      "cell_type": "code",
      "source": [
        "figura.superficie()"
      ],
      "metadata": {
        "id": "ea8fwK7-7o5s"
      },
      "execution_count": null,
      "outputs": []
    },
    {
      "cell_type": "markdown",
      "source": [
        "Que es un método?\n",
        "\n",
        "Es una función\n",
        "\n",
        "Com accedemos a un método?\n",
        "\n",
        "el nombre del objeto \".\" el nombre del método"
      ],
      "metadata": {
        "id": "7Hje9DMSvSTb"
      }
    },
    {
      "cell_type": "markdown",
      "source": [
        "**Preguntas**❓"
      ],
      "metadata": {
        "id": "Mc2DoYVR8yls"
      }
    },
    {
      "cell_type": "markdown",
      "source": [
        "![green-divider](https://user-images.githubusercontent.com/7065401/52071924-c003ad80-2562-11e9-8297-1c6595f8a7ff.png)\n",
        "\n",
        "### Ejercicio"
      ],
      "metadata": {
        "id": "pxLGYkNVv203"
      }
    },
    {
      "cell_type": "markdown",
      "source": [
        "__Trabajando con DrawIO__\n",
        "\n",
        "__Consigna__:\n",
        "\n",
        "Crear una clase llamada __Alumno__, que posea como atributos de instancia el nombre y la nota del estudiante. Como métodos propios de la clase, se deberán definir correspondientemente el constructor, el método imprimir y resultado.\n",
        "\n",
        "__Aclaración__: Tanto los atributos como métodos, son de tipo públicos.\n",
        "\n",
        "__Importante__: En la siguiente actividad en clase, implementaremos nuestro Diagrama de Clase, directamente en Python.\n",
        "\n",
        "[DrawIO](https://app.diagrams.net/)"
      ],
      "metadata": {
        "id": "Q2keg6GJv5oe"
      }
    },
    {
      "cell_type": "markdown",
      "source": [
        "### ☕ Break"
      ],
      "metadata": {
        "id": "YVKOw83Mwx1l"
      }
    },
    {
      "cell_type": "markdown",
      "source": [
        "10 minutos y volvemos!!!!!"
      ],
      "metadata": {
        "id": "MFvb10--9GEk"
      }
    },
    {
      "cell_type": "markdown",
      "source": [
        "![green-divider](https://user-images.githubusercontent.com/7065401/52071924-c003ad80-2562-11e9-8297-1c6595f8a7ff.png)\n",
        "\n",
        "### Métodos Especiales"
      ],
      "metadata": {
        "id": "WMJvHtUhw2oJ"
      }
    },
    {
      "cell_type": "markdown",
      "source": [
        "__¿Qué son?__\n",
        "\n",
        "Los métodos mágicos de las clases Python son aquellos que comienzan y terminan con dos caracteres subrayados. Son de suma importancia ya que muchas de las operaciones que se hacen con clases en Python utilizan estos métodos, como puede ser la creación del objeto (__init__) o generar una cadena que los represente (__str__)."
      ],
      "metadata": {
        "id": "XqCOZ7SOw9Em"
      }
    },
    {
      "cell_type": "markdown",
      "source": [
        "\n",
        "**\\_\\_init\\_\\_**:\n",
        "\n",
        "El método mágico más utilizado en las clases de python es el constructor. Empleado para crear cada una de las instancias de las clases. No tiene una cantidad fija de parámetros, ya que estos dependen de las propiedades que tenga el objeto. Por ejemplo, se puede crear un objeto Vector:"
      ],
      "metadata": {
        "id": "AuyMRSUz1Zq6"
      }
    },
    {
      "cell_type": "code",
      "source": [
        "class Vector():\n",
        "\n",
        "  def __init__(self, data):\n",
        "    self.data = data"
      ],
      "metadata": {
        "id": "NoC9YPde1YQw"
      },
      "execution_count": null,
      "outputs": []
    },
    {
      "cell_type": "code",
      "source": [
        "v = Vector([1,2])\n",
        "print(v.data)"
      ],
      "metadata": {
        "id": "9DjGV4lYCb5M"
      },
      "execution_count": null,
      "outputs": []
    },
    {
      "cell_type": "markdown",
      "source": [
        "**\\_\\_str\\_\\_**:\n",
        "\n",
        "\n",
        "Posiblemente el segundo método más utilizado, con el que se crea una representación del objeto con significado para las personas.\n",
        "\n",
        "En el ejemplo anterior, al imprimir el objeto, se ha visto una cadena que indica el tipo de objeto y una dirección. Lo que generalmente no tiene sentido para las personas."
      ],
      "metadata": {
        "id": "kMG0xOmE5pVf"
      }
    },
    {
      "cell_type": "code",
      "source": [
        "print(v)"
      ],
      "metadata": {
        "id": "rUrQNQvU5ytM"
      },
      "execution_count": null,
      "outputs": []
    },
    {
      "cell_type": "code",
      "source": [
        "class Vector():\n",
        "  def __init__(self, data):\n",
        "      self.data = data\n",
        "      return\n",
        "\n",
        "  def __str__(self):\n",
        "    return f\"Objeto del tipo Vector. Sus datos son {self.data}\"\n"
      ],
      "metadata": {
        "id": "BjXvRTIzJoWb"
      },
      "execution_count": null,
      "outputs": []
    },
    {
      "cell_type": "markdown",
      "source": [
        "Que tipo de dato retorna el metodo str?"
      ],
      "metadata": {
        "id": "UBJfTE3-Clk0"
      }
    },
    {
      "cell_type": "code",
      "source": [
        "v = Vector([1,2,3,4])"
      ],
      "metadata": {
        "id": "NbewJ6v1K0hM"
      },
      "execution_count": null,
      "outputs": []
    },
    {
      "cell_type": "code",
      "source": [
        "print(v.data)\n",
        "print(v)"
      ],
      "metadata": {
        "id": "bOKU1tiwK7T2"
      },
      "execution_count": null,
      "outputs": []
    },
    {
      "cell_type": "markdown",
      "source": [
        "**\\_\\_len\\_\\_**:  \n",
        "\n",
        "Podríamos usar la función len para obtener el número de elementos que tenga el objeto."
      ],
      "metadata": {
        "id": "xQOULEHQOwiO"
      }
    },
    {
      "cell_type": "code",
      "source": [
        "v2 = Vector([1,2,3,5,6,7,8,9])"
      ],
      "metadata": {
        "id": "XK3sBAfKDE_R"
      },
      "execution_count": null,
      "outputs": []
    },
    {
      "cell_type": "code",
      "source": [
        "len(v2)"
      ],
      "metadata": {
        "id": "5ljJFSIiDJ4T"
      },
      "execution_count": null,
      "outputs": []
    },
    {
      "cell_type": "markdown",
      "source": [
        "Que paso????"
      ],
      "metadata": {
        "id": "P5x693wwDWwx"
      }
    },
    {
      "cell_type": "code",
      "source": [
        "class Vector():\n",
        "  def __init__(self, data):\n",
        "      self.data = data\n",
        "      return\n",
        "\n",
        "  def __str__(self):\n",
        "    return f\"Objeto del tipo Vector. Sus datos son {self.data}\"\n",
        "\n",
        "  def __len__(self):\n",
        "    return len(self.data)"
      ],
      "metadata": {
        "id": "jRSb1TVFP5Au"
      },
      "execution_count": null,
      "outputs": []
    },
    {
      "cell_type": "code",
      "source": [
        "v2 = Vector([1,2,3,5,6,7,8,9])"
      ],
      "metadata": {
        "id": "DpfXunhzQn4T"
      },
      "execution_count": null,
      "outputs": []
    },
    {
      "cell_type": "code",
      "source": [
        "v2.data"
      ],
      "metadata": {
        "id": "85ZfO4FPQrlc"
      },
      "execution_count": null,
      "outputs": []
    },
    {
      "cell_type": "code",
      "source": [
        "len(v2)"
      ],
      "metadata": {
        "id": "tQRQy8e-Qs3u"
      },
      "execution_count": null,
      "outputs": []
    },
    {
      "cell_type": "markdown",
      "source": [
        "**Preguntas**❓"
      ],
      "metadata": {
        "id": "q-DXdKwwE5X6"
      }
    },
    {
      "cell_type": "markdown",
      "source": [
        "**\\_\\_getitem\\_\\_**:\n",
        "\n",
        "Si se desea que los usuarios puedan leer los elementos mediante el uso de corchetes es necesario implementar el método __getitem__ en la clase. Este elemento necesita un parámetro adicional, que es la posición del elemento a leer. La función debe retornar el valor leído."
      ],
      "metadata": {
        "id": "wzb8zKL6SZAe"
      }
    },
    {
      "cell_type": "code",
      "source": [
        "class Vector():\n",
        "  def __init__(self, data):\n",
        "      self.data = data\n",
        "      return\n",
        "\n",
        "  def __str__(self):\n",
        "    return f\"Objeto del tipo Vector. Sus datos son {self.data}\"\n",
        "\n",
        "  def __len__(self):\n",
        "    return len(self.data)\n",
        "\n",
        "  def __getitem__(self, indice):\n",
        "    return self.data[indice]\n"
      ],
      "metadata": {
        "id": "cSbw3Ug0Si9w"
      },
      "execution_count": null,
      "outputs": []
    },
    {
      "cell_type": "code",
      "source": [
        "v4 = Vector([9,8,7,6,5,4,3,2,1])"
      ],
      "metadata": {
        "id": "y11BySLxTSjD"
      },
      "execution_count": null,
      "outputs": []
    },
    {
      "cell_type": "code",
      "source": [
        "v4[1]"
      ],
      "metadata": {
        "id": "C3E7QjXKTYyO"
      },
      "execution_count": null,
      "outputs": []
    },
    {
      "cell_type": "markdown",
      "source": [
        "__setitem__:\n"
      ],
      "metadata": {
        "id": "ogSjlQMOThc_"
      }
    },
    {
      "cell_type": "code",
      "source": [
        "class Vector():\n",
        "  def __init__(self, data):\n",
        "      self.data = data\n",
        "      return\n",
        "\n",
        "  def __str__(self):\n",
        "    return f\"Objeto del tipo Vector. Sus datos son {self.data}\"\n",
        "\n",
        "  def __len__(self):\n",
        "    return len(self.data)\n",
        "\n",
        "  def __getitem__(self, indice):\n",
        "    return self.data[indice]\n",
        "\n",
        "  def __setitem__(self, indice, valor):\n",
        "    self.data[indice] = valor\n",
        "    return"
      ],
      "metadata": {
        "id": "3gW8nv4vWFAG"
      },
      "execution_count": null,
      "outputs": []
    },
    {
      "cell_type": "code",
      "source": [
        "v4 = Vector([2,3,4,5,6,7,8,9])"
      ],
      "metadata": {
        "id": "7Kmm-MQc6gM5"
      },
      "execution_count": null,
      "outputs": []
    },
    {
      "cell_type": "code",
      "source": [
        "v4[1] = 23"
      ],
      "metadata": {
        "id": "4l6WONwo6vQl"
      },
      "execution_count": null,
      "outputs": []
    },
    {
      "cell_type": "code",
      "source": [
        "v4.data"
      ],
      "metadata": {
        "id": "bHY1Vpr060Wd"
      },
      "execution_count": null,
      "outputs": []
    },
    {
      "cell_type": "markdown",
      "source": [
        "**Preguntas**❓"
      ],
      "metadata": {
        "id": "FiBfl9M2E7RB"
      }
    },
    {
      "cell_type": "markdown",
      "source": [
        "* Ver Clase13 - Generadores"
      ],
      "metadata": {
        "id": "f09Mc3JGFCZL"
      }
    },
    {
      "cell_type": "markdown",
      "source": [
        "__iter__:\n",
        "\n",
        "Hace que nuestra clase sea iterable, lo que permite usarla por ejemplo en bucles tipo for, es necesario implementar este método. A continuación, podemos ver una implementación de este método en el que devuelve una cadena con el índice y el valor de cada elemento."
      ],
      "metadata": {
        "id": "Zts8FDGb2WG_"
      }
    },
    {
      "cell_type": "code",
      "source": [
        "class Vector():\n",
        "  def __init__(self, data):\n",
        "      self.data = data\n",
        "      return\n",
        "\n",
        "  def __str__(self):\n",
        "    return f\"Objeto del tipo Vector. Sus datos son {self.data}\"\n",
        "\n",
        "  def __len__(self):\n",
        "    return len(self.data)\n",
        "\n",
        "  def __getitem__(self, indice):\n",
        "    return self.data[indice]\n",
        "\n",
        "  def __setitem__(self, indice, valor):\n",
        "    self.data[indice] = valor\n",
        "    return\n",
        "\n",
        "  def __iter__(self):\n",
        "    for value in range(0, len(self.data)):\n",
        "      yield self.data[value]"
      ],
      "metadata": {
        "id": "GG9jPZbf2aCo"
      },
      "execution_count": null,
      "outputs": []
    },
    {
      "cell_type": "code",
      "source": [
        "v4 = Vector([2,3,4,5,6,7,8,9])"
      ],
      "metadata": {
        "id": "RYukMusihzcT"
      },
      "execution_count": null,
      "outputs": []
    },
    {
      "cell_type": "code",
      "source": [
        "for valor in v4:\n",
        "  print(valor)"
      ],
      "metadata": {
        "id": "gMYdERMth5-o"
      },
      "execution_count": null,
      "outputs": []
    },
    {
      "cell_type": "markdown",
      "source": [
        "**Preguntas**❓"
      ],
      "metadata": {
        "id": "EjbGBaJeE-oQ"
      }
    },
    {
      "cell_type": "markdown",
      "source": [
        "* add.py"
      ],
      "metadata": {
        "id": "EYp5LTgPOUNs"
      }
    },
    {
      "cell_type": "markdown",
      "source": [
        "![green-divider](https://user-images.githubusercontent.com/7065401/52071924-c003ad80-2562-11e9-8297-1c6595f8a7ff.png)\n",
        "\n",
        "### Clases Anidadas"
      ],
      "metadata": {
        "id": "VFzhZYgc3ks8"
      }
    },
    {
      "cell_type": "markdown",
      "source": [
        "#### Relación entre clases\n",
        "\n",
        "Cuando vimos el por qué trabajar por medio de este paradigma, dijimos que era fundamental para separar a nuestro problema en problemas más pequeños (Clases), pero estos “problemas” no van a  estar aislados, estarán relacionados entre sí. Por ejemplo, los Perros, suelen ser la mascota de una Persona."
      ],
      "metadata": {
        "id": "j13oaRTy429_"
      }
    },
    {
      "cell_type": "markdown",
      "source": [
        "* anidadas.py"
      ],
      "metadata": {
        "id": "-Kp39WDXGMPJ"
      }
    },
    {
      "cell_type": "markdown",
      "source": [
        "![green-divider](https://user-images.githubusercontent.com/7065401/52071924-c003ad80-2562-11e9-8297-1c6595f8a7ff.png)\n",
        "\n",
        "### Encapsulamiento"
      ],
      "metadata": {
        "id": "sOC4_7wA8eSb"
      }
    },
    {
      "cell_type": "markdown",
      "source": [
        "Es un concepto relacionado con la programación, orientada a objetos, y hace referencia al **ocultamiento de los estados internos de una clase al exterior**. Dicho de otra manera, encapsular consiste en **hacer que los atributos o métodos internos a una clase no se puedan acceder ni modificar desde fuera**, sino que tan solo el propio objeto pueda acceder a ellos."
      ],
      "metadata": {
        "id": "t2i4xCt_hXLK"
      }
    },
    {
      "cell_type": "markdown",
      "source": [
        "* encapsulamiento.py"
      ],
      "metadata": {
        "id": "jL-v9480JqoQ"
      }
    },
    {
      "cell_type": "markdown",
      "source": [
        "![green-divider](https://user-images.githubusercontent.com/7065401/52071924-c003ad80-2562-11e9-8297-1c6595f8a7ff.png)\n",
        "\n",
        "### Ejercicio"
      ],
      "metadata": {
        "id": "-ZAskDjNJDlV"
      }
    },
    {
      "cell_type": "markdown",
      "source": [
        "**Consigna**: Implementar la Clase de Alumno, creada en la actividad anterior, directamente en Python."
      ],
      "metadata": {
        "id": "lqQEl1EwJdt6"
      }
    },
    {
      "cell_type": "markdown",
      "source": [
        "Aclaraciones Generales:\n",
        "\n",
        "* El método imprimir, deberá mostrar por pantalla el nombre y la nota del estudiante.\n",
        "* El método resultado, evalúa la nota correspondiente del estudiante. Si el estudiante saca menos de 5 puntos desaprueba la materia, más de 5 puntos aprueba. Tip: Para la realización de este apartado, es necesario trabajar con estructuras condicionales.\n",
        "* Se deberá instanciar, al menos, dos objetos pertenecientes a la clase Alumno."
      ],
      "metadata": {
        "id": "eC6zo0kIJI-G"
      }
    }
  ]
}